{
 "cells": [
  {
   "cell_type": "code",
   "execution_count": 2,
   "id": "1dfd3a12",
   "metadata": {},
   "outputs": [
    {
     "name": "stdout",
     "output_type": "stream",
     "text": [
      "     sky airtemp humidity    wind water forcast enjoysport\n",
      "0  sunny    warm   normal  strong  warm    same        yes\n",
      "1  sunny    warm     high  strong  warm    same        yes\n",
      "2  rainy    cold     high  strong  warm  change         no\n",
      "3  sunny    warm     high  strong  cool  change        yes\n",
      "[['sunny' 'warm' 'normal' 'strong' 'warm' 'same']\n",
      " ['sunny' 'warm' 'high' 'strong' 'warm' 'same']\n",
      " ['rainy' 'cold' 'high' 'strong' 'warm' 'change']\n",
      " ['sunny' 'warm' 'high' 'strong' 'cool' 'change']]\n",
      "['yes' 'yes' 'no' 'yes']\n",
      "initialize specific and general hypothesis\n",
      "['sunny' 'warm' 'normal' 'strong' 'warm' 'same']\n",
      "[['?', '?', '?', '?', '?', '?'], ['?', '?', '?', '?', '?', '?'], ['?', '?', '?', '?', '?', '?'], ['?', '?', '?', '?', '?', '?'], ['?', '?', '?', '?', '?', '?'], ['?', '?', '?', '?', '?', '?']]\n",
      "Steps in candidate elimination algorithm\n",
      "['sunny' 'warm' 'normal' 'strong' 'warm' 'same']\n",
      "[['?', '?', '?', '?', '?', '?'], ['?', '?', '?', '?', '?', '?'], ['?', '?', '?', '?', '?', '?'], ['?', '?', '?', '?', '?', '?'], ['?', '?', '?', '?', '?', '?'], ['?', '?', '?', '?', '?', '?']]\n",
      "Steps in candidate elimination algorithm\n",
      "['sunny' 'warm' '?' 'strong' 'warm' 'same']\n",
      "[['?', '?', '?', '?', '?', '?'], ['?', '?', '?', '?', '?', '?'], ['?', '?', '?', '?', '?', '?'], ['?', '?', '?', '?', '?', '?'], ['?', '?', '?', '?', '?', '?'], ['?', '?', '?', '?', '?', '?']]\n",
      "Steps in candidate elimination algorithm\n",
      "['sunny' 'warm' '?' 'strong' 'warm' 'same']\n",
      "[['sunny', '?', '?', '?', '?', '?'], ['?', 'warm', '?', '?', '?', '?'], ['?', '?', '?', '?', '?', '?'], ['?', '?', '?', '?', '?', '?'], ['?', '?', '?', '?', '?', '?'], ['?', '?', '?', '?', '?', 'same']]\n",
      "Steps in candidate elimination algorithm\n",
      "['sunny' 'warm' '?' 'strong' '?' '?']\n",
      "[['sunny', '?', '?', '?', '?', '?'], ['?', 'warm', '?', '?', '?', '?'], ['?', '?', '?', '?', '?', '?'], ['?', '?', '?', '?', '?', '?'], ['?', '?', '?', '?', '?', '?'], ['?', '?', '?', '?', '?', '?']]\n",
      "\n",
      "specific : ['sunny' 'warm' '?' 'strong' '?' '?']\n",
      "general : [['sunny', '?', '?', '?', '?', '?'], ['?', 'warm', '?', '?', '?', '?']]\n"
     ]
    }
   ],
   "source": [
    "import pandas as pd\n",
    "import numpy as np\n",
    "data=pd.DataFrame(data=pd.read_csv(\"enjoysport.csv\"))\n",
    "print(data)\n",
    "concept=np.array(data.iloc[:,0:-1])\n",
    "target=np.array(data.iloc[:,-1])\n",
    "print(concept)\n",
    "print(target)\n",
    "def learn(concept,target):\n",
    "    s_h=concept[0].copy()\n",
    "    g_h=[[\"?\" for i in range(len(s_h))] for i in range(len(s_h))]\n",
    "    print(\"initialize specific and general hypothesis\")\n",
    "    print(s_h)\n",
    "    print(g_h)\n",
    "    \n",
    "    for i,h in enumerate(concept):\n",
    "        if target[i]==\"yes\":\n",
    "            for x in range(len(s_h)):\n",
    "                if h[x]!=s_h[x]:\n",
    "                    s_h[x]=\"?\"\n",
    "                    g_h[x][x]=\"?\"\n",
    "        if target[i]==\"no\":\n",
    "            for x in range(len(s_h)):\n",
    "                if h[x]!=s_h[x]:\n",
    "                    g_h[x][x]=s_h[x]\n",
    "                else:\n",
    "                    g_h[x][x]=\"?\"\n",
    "        print(\"Steps in candidate elimination algorithm\")\n",
    "        print(s_h)\n",
    "        print(g_h)\n",
    "    indices=[i for i,val in enumerate(g_h) if val==['?', '?', '?', '?', '?', '?']]\n",
    "    for i in indices:\n",
    "        g_h.remove(['?', '?', '?', '?', '?', '?'])\n",
    "    return s_h,g_h\n",
    "s_final,g_final=learn(concept,target)\n",
    "print(\"\\nspecific :\",s_final)\n",
    "print(\"general :\",g_final)"
   ]
  },
  {
   "cell_type": "code",
   "execution_count": null,
   "id": "58006519",
   "metadata": {},
   "outputs": [],
   "source": []
  }
 ],
 "metadata": {
  "kernelspec": {
   "display_name": "Python 3 (ipykernel)",
   "language": "python",
   "name": "python3"
  },
  "language_info": {
   "codemirror_mode": {
    "name": "ipython",
    "version": 3
   },
   "file_extension": ".py",
   "mimetype": "text/x-python",
   "name": "python",
   "nbconvert_exporter": "python",
   "pygments_lexer": "ipython3",
   "version": "3.11.4"
  }
 },
 "nbformat": 4,
 "nbformat_minor": 5
}
